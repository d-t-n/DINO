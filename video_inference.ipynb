{
  "nbformat": 4,
  "nbformat_minor": 0,
  "metadata": {
    "colab": {
      "provenance": [],
      "gpuType": "T4"
    },
    "kernelspec": {
      "name": "python3",
      "display_name": "Python 3"
    },
    "language_info": {
      "name": "python"
    },
    "accelerator": "GPU"
  },
  "cells": [
    {
      "cell_type": "markdown",
      "metadata": {
        "id": "vngKopoMm6YF"
      },
      "source": [
        "# Run on Google Colab using a GPU"
      ]
    },
    {
      "cell_type": "markdown",
      "metadata": {
        "id": "ZRpyWAFbnWlA"
      },
      "source": [
        "## Clone the repo"
      ]
    },
    {
      "cell_type": "code",
      "metadata": {
        "id": "hcACfYD7nXYy"
      },
      "source": [
        "!rm -rf sample_data/\n",
        "!mkdir out"
      ],
      "execution_count": 1,
      "outputs": []
    },
    {
      "cell_type": "code",
      "metadata": {
        "id": "ntvf2-VJo0wR"
      },
      "source": [
        "!mkdir input\n",
        "!mkdir output"
      ],
      "execution_count": 2,
      "outputs": []
    },
    {
      "cell_type": "code",
      "metadata": {
        "id": "l2VdQYme11i_",
        "colab": {
          "base_uri": "https://localhost:8080/"
        },
        "outputId": "4118537b-e9c8-4aa5-b326-45ffa03d82ce"
      },
      "source": [
        "!git clone https://github.com/facebookresearch/dino.git"
      ],
      "execution_count": 3,
      "outputs": [
        {
          "output_type": "stream",
          "name": "stdout",
          "text": [
            "Cloning into 'dino'...\n",
            "remote: Enumerating objects: 175, done.\u001b[K\n",
            "remote: Counting objects: 100% (69/69), done.\u001b[K\n",
            "remote: Compressing objects: 100% (15/15), done.\u001b[K\n",
            "remote: Total 175 (delta 57), reused 55 (delta 54), pack-reused 106\u001b[K\n",
            "Receiving objects: 100% (175/175), 24.44 MiB | 16.19 MiB/s, done.\n",
            "Resolving deltas: 100% (110/110), done.\n"
          ]
        }
      ]
    },
    {
      "cell_type": "markdown",
      "metadata": {
        "id": "orPqkK37nkZ5"
      },
      "source": [
        "Download a model, here I used deit small 8 pretrained"
      ]
    },
    {
      "cell_type": "code",
      "metadata": {
        "id": "kfgejeGwniAZ",
        "colab": {
          "base_uri": "https://localhost:8080/"
        },
        "outputId": "6513b378-7de5-4b46-f8a1-e05bd7e4a7f1"
      },
      "source": [
        "!wget https://dl.fbaipublicfiles.com/dino/dino_deitsmall8_pretrain/dino_deitsmall8_pretrain.pth -O dino/dino_deitsmall8_pretrain.pth"
      ],
      "execution_count": 4,
      "outputs": [
        {
          "output_type": "stream",
          "name": "stdout",
          "text": [
            "--2023-09-21 19:54:38--  https://dl.fbaipublicfiles.com/dino/dino_deitsmall8_pretrain/dino_deitsmall8_pretrain.pth\n",
            "Resolving dl.fbaipublicfiles.com (dl.fbaipublicfiles.com)... 13.227.219.59, 13.227.219.70, 13.227.219.10, ...\n",
            "Connecting to dl.fbaipublicfiles.com (dl.fbaipublicfiles.com)|13.227.219.59|:443... connected.\n",
            "HTTP request sent, awaiting response... 200 OK\n",
            "Length: 86728949 (83M) [application/zip]\n",
            "Saving to: ‘dino/dino_deitsmall8_pretrain.pth’\n",
            "\n",
            "dino/dino_deitsmall 100%[===================>]  82.71M   195MB/s    in 0.4s    \n",
            "\n",
            "2023-09-21 19:54:38 (195 MB/s) - ‘dino/dino_deitsmall8_pretrain.pth’ saved [86728949/86728949]\n",
            "\n"
          ]
        }
      ]
    },
    {
      "cell_type": "markdown",
      "metadata": {
        "id": "uu92SGGC1ezm"
      },
      "source": [
        "## Look for a video to use and download it\n",
        "\n",
        "I'm using this one for example\n",
        "https://www.pexels.com/fr-fr/video/chien-course-exterieur-journee-ensoleillee-4166347/\n",
        "\n",
        "\n",
        "Then you need to extract frames from the video, you can use ffmpeg.\n",
        "\n",
        "Video is 60 fps and ~6 sec so you'll get ~360 jpg images\n",
        "\n",
        "%03d is from 001 to 999"
      ]
    },
    {
      "cell_type": "code",
      "metadata": {
        "id": "LWk0Ymx5n8wN",
        "colab": {
          "base_uri": "https://localhost:8080/"
        },
        "outputId": "a087ea09-47b5-457c-9839-ec4c55c1da40"
      },
      "source": [
        "!ffmpeg -i /content/video.mp4 /content/input/img-%03d.jpg"
      ],
      "execution_count": 5,
      "outputs": [
        {
          "output_type": "stream",
          "name": "stdout",
          "text": [
            "ffmpeg version 4.4.2-0ubuntu0.22.04.1 Copyright (c) 2000-2021 the FFmpeg developers\n",
            "  built with gcc 11 (Ubuntu 11.2.0-19ubuntu1)\n",
            "  configuration: --prefix=/usr --extra-version=0ubuntu0.22.04.1 --toolchain=hardened --libdir=/usr/lib/x86_64-linux-gnu --incdir=/usr/include/x86_64-linux-gnu --arch=amd64 --enable-gpl --disable-stripping --enable-gnutls --enable-ladspa --enable-libaom --enable-libass --enable-libbluray --enable-libbs2b --enable-libcaca --enable-libcdio --enable-libcodec2 --enable-libdav1d --enable-libflite --enable-libfontconfig --enable-libfreetype --enable-libfribidi --enable-libgme --enable-libgsm --enable-libjack --enable-libmp3lame --enable-libmysofa --enable-libopenjpeg --enable-libopenmpt --enable-libopus --enable-libpulse --enable-librabbitmq --enable-librubberband --enable-libshine --enable-libsnappy --enable-libsoxr --enable-libspeex --enable-libsrt --enable-libssh --enable-libtheora --enable-libtwolame --enable-libvidstab --enable-libvorbis --enable-libvpx --enable-libwebp --enable-libx265 --enable-libxml2 --enable-libxvid --enable-libzimg --enable-libzmq --enable-libzvbi --enable-lv2 --enable-omx --enable-openal --enable-opencl --enable-opengl --enable-sdl2 --enable-pocketsphinx --enable-librsvg --enable-libmfx --enable-libdc1394 --enable-libdrm --enable-libiec61883 --enable-chromaprint --enable-frei0r --enable-libx264 --enable-shared\n",
            "  libavutil      56. 70.100 / 56. 70.100\n",
            "  libavcodec     58.134.100 / 58.134.100\n",
            "  libavformat    58. 76.100 / 58. 76.100\n",
            "  libavdevice    58. 13.100 / 58. 13.100\n",
            "  libavfilter     7.110.100 /  7.110.100\n",
            "  libswscale      5.  9.100 /  5.  9.100\n",
            "  libswresample   3.  9.100 /  3.  9.100\n",
            "  libpostproc    55.  9.100 / 55.  9.100\n",
            "Input #0, mov,mp4,m4a,3gp,3g2,mj2, from '/content/video.mp4':\n",
            "  Metadata:\n",
            "    major_brand     : mp42\n",
            "    minor_version   : 0\n",
            "    compatible_brands: mp42mp41isomavc1\n",
            "    creation_time   : 2020-04-16T00:39:29.000000Z\n",
            "  Duration: 00:00:06.08, start: 0.000000, bitrate: 21209 kb/s\n",
            "  Stream #0:0(und): Video: h264 (High) (avc1 / 0x31637661), yuv420p(tv, bt709), 3840x2160, 20974 kb/s, 29.97 fps, 29.97 tbr, 30k tbn, 60k tbc (default)\n",
            "    Metadata:\n",
            "      creation_time   : 2020-04-16T00:39:29.000000Z\n",
            "      handler_name    : L-SMASH Video Handler\n",
            "      vendor_id       : [0][0][0][0]\n",
            "      encoder         : AVC Coding\n",
            "  Stream #0:1(und): Audio: aac (LC) (mp4a / 0x6134706D), 48000 Hz, stereo, fltp, 253 kb/s (default)\n",
            "    Metadata:\n",
            "      creation_time   : 2020-04-16T00:39:29.000000Z\n",
            "      handler_name    : L-SMASH Audio Handler\n",
            "      vendor_id       : [0][0][0][0]\n",
            "Stream mapping:\n",
            "  Stream #0:0 -> #0:0 (h264 (native) -> mjpeg (native))\n",
            "Press [q] to stop, [?] for help\n",
            "\u001b[1;34m[swscaler @ 0x557343552740] \u001b[0m\u001b[0;33mdeprecated pixel format used, make sure you did set range correctly\n",
            "\u001b[0mOutput #0, image2, to '/content/input/img-%03d.jpg':\n",
            "  Metadata:\n",
            "    major_brand     : mp42\n",
            "    minor_version   : 0\n",
            "    compatible_brands: mp42mp41isomavc1\n",
            "    encoder         : Lavf58.76.100\n",
            "  Stream #0:0(und): Video: mjpeg, yuvj420p(pc, bt709, progressive), 3840x2160, q=2-31, 200 kb/s, 29.97 fps, 29.97 tbn (default)\n",
            "    Metadata:\n",
            "      creation_time   : 2020-04-16T00:39:29.000000Z\n",
            "      handler_name    : L-SMASH Video Handler\n",
            "      vendor_id       : [0][0][0][0]\n",
            "      encoder         : Lavc58.134.100 mjpeg\n",
            "    Side data:\n",
            "      cpb: bitrate max/min/avg: 0/0/200000 buffer size: 0 vbv_delay: N/A\n",
            "frame=  182 fps=9.6 q=24.8 Lsize=N/A time=00:00:06.07 bitrate=N/A speed=0.319x    \n",
            "video:43907kB audio:0kB subtitle:0kB other streams:0kB global headers:0kB muxing overhead: unknown\n"
          ]
        }
      ]
    },
    {
      "cell_type": "code",
      "metadata": {
        "id": "J49nJpl5pP05",
        "colab": {
          "base_uri": "https://localhost:8080/"
        },
        "outputId": "99c8398d-f38b-48d9-a6c6-ec95bd1127a2"
      },
      "source": [
        "%cd dino/"
      ],
      "execution_count": 6,
      "outputs": [
        {
          "output_type": "stream",
          "name": "stdout",
          "text": [
            "/content/dino\n"
          ]
        }
      ]
    },
    {
      "cell_type": "markdown",
      "metadata": {
        "id": "bgU_sdRJpRHQ"
      },
      "source": [
        "## Code"
      ]
    },
    {
      "cell_type": "markdown",
      "metadata": {
        "id": "3nwQ4Ct4pWCr"
      },
      "source": [
        "Requirements:\n",
        "\n",
        "\n",
        "* Opencv\n",
        "* scikit-image\n",
        "* maptlotlib\n",
        "* pytorch\n",
        "* numpy\n",
        "* Pillow\n",
        "\n"
      ]
    },
    {
      "cell_type": "code",
      "metadata": {
        "id": "3-YQ-kbN30k1"
      },
      "source": [
        "# Copyright (c) Facebook, Inc. and its affiliates. All Rights Reserved\n",
        "import os\n",
        "import gc\n",
        "import sys\n",
        "import argparse\n",
        "import cv2\n",
        "import random\n",
        "import colorsys\n",
        "import requests\n",
        "from io import BytesIO\n",
        "\n",
        "import skimage.io\n",
        "from skimage.measure import find_contours\n",
        "import matplotlib.pyplot as plt\n",
        "from matplotlib.patches import Polygon\n",
        "import torch\n",
        "import torch.nn as nn\n",
        "import torchvision\n",
        "from torchvision import transforms as pth_transforms\n",
        "import numpy as np\n",
        "from PIL import Image\n",
        "\n",
        "import utils\n",
        "import vision_transformer as vits"
      ],
      "execution_count": 7,
      "outputs": []
    },
    {
      "cell_type": "markdown",
      "metadata": {
        "id": "_Iru4HEMrsmk"
      },
      "source": [
        "You may need to resize each tensor otherwise you'll get an OOM error\n",
        "\n",
        "Line 9: `pth_transforms.Resize(512),`\n",
        "\n",
        "\n",
        "Also, the color of video from blogpost is obtained by using cmap=\"inferno\""
      ]
    },
    {
      "cell_type": "code",
      "metadata": {
        "id": "eaJJqEOB-LH0"
      },
      "source": [
        "def predict_video(args):\n",
        "    for frame in sorted(os.listdir(args.image_path)):\n",
        "        with open(os.path.join(args.image_path, frame), 'rb') as f:\n",
        "            img = Image.open(f)\n",
        "            img = img.convert('RGB')\n",
        "\n",
        "        transform = pth_transforms.Compose([\n",
        "            pth_transforms.ToTensor(),\n",
        "            pth_transforms.Resize(512),\n",
        "            pth_transforms.Normalize((0.485, 0.456, 0.406), (0.229, 0.224, 0.225)),\n",
        "        ])\n",
        "        img = transform(img)\n",
        "\n",
        "        # make the image divisible by the patch size\n",
        "        w, h = img.shape[1] - img.shape[1] % args.patch_size, img.shape[2] - img.shape[2] % args.patch_size\n",
        "        img = img[:, :w, :h].unsqueeze(0)\n",
        "\n",
        "        w_featmap = img.shape[-2] // args.patch_size\n",
        "        h_featmap = img.shape[-1] // args.patch_size\n",
        "\n",
        "        attentions = model.get_last_selfattention(img.cuda())\n",
        "\n",
        "        nh = attentions.shape[1] # number of head\n",
        "\n",
        "        # we keep only the output patch attention\n",
        "        attentions = attentions[0, :, 0, 1:].reshape(nh, -1)\n",
        "\n",
        "        # we keep only a certain percentage of the mass\n",
        "        val, idx = torch.sort(attentions)\n",
        "        val /= torch.sum(val, dim=1, keepdim=True)\n",
        "        cumval = torch.cumsum(val, dim=1)\n",
        "        th_attn = cumval > (1 - args.threshold)\n",
        "        idx2 = torch.argsort(idx)\n",
        "        for head in range(nh):\n",
        "            th_attn[head] = th_attn[head][idx2[head]]\n",
        "        th_attn = th_attn.reshape(nh, w_featmap, h_featmap).float()\n",
        "        # interpolate\n",
        "        th_attn = nn.functional.interpolate(th_attn.unsqueeze(0), scale_factor=args.patch_size, mode=\"nearest\")[0].cpu().numpy()\n",
        "\n",
        "        attentions = attentions.reshape(nh, w_featmap, h_featmap)\n",
        "        attentions = nn.functional.interpolate(attentions.unsqueeze(0), scale_factor=args.patch_size, mode=\"nearest\")[0].cpu().numpy()\n",
        "\n",
        "        # save attentions heatmaps\n",
        "        os.makedirs(args.output_dir, exist_ok=True)\n",
        "\n",
        "        # Saving only last attention layer\n",
        "        fname = os.path.join(args.output_dir, \"attn-\" + frame)\n",
        "        plt.imsave(\n",
        "            fname=fname,\n",
        "            arr=sum(attentions[i] * 1/attentions.shape[0] for i in range(attentions.shape[0])),\n",
        "            cmap=\"inferno\",\n",
        "            format=\"jpg\"\n",
        "        )\n",
        "        print(f\"{fname} saved.\")"
      ],
      "execution_count": 18,
      "outputs": []
    },
    {
      "cell_type": "code",
      "metadata": {
        "id": "3T1S_2H5O_XX"
      },
      "source": [
        "#@title Args\n",
        "\n",
        "pretrained_weights_path = \"dino_deitsmall8_pretrain.pth\" #@param {type:\"string\"}\n",
        "arch = 'vit_base' #@param [\"deit_small\", \"deit_tiny\", \"vit_base\"]\n",
        "input_path = \"../input/\" #@param {type:\"string\"}\n",
        "output_path = \"../output/\" #@param {type:\"string\"}\n",
        "threshold = 0.6 #@param {type:\"number\"}\n",
        "\n",
        "\n",
        "parser = argparse.ArgumentParser('Visualize Self-Attention maps')\n",
        "parser.add_argument('--arch', default='deit_small', type=str,\n",
        "    choices=['deit_tiny', 'deit_small', 'vit_base'], help='Architecture (support only ViT atm).')\n",
        "parser.add_argument('--patch_size', default=8, type=int, help='Patch resolution of the model.')\n",
        "parser.add_argument('--pretrained_weights', default='', type=str,\n",
        "    help=\"Path to pretrained weights to load.\")\n",
        "parser.add_argument(\"--checkpoint_key\", default=\"teacher\", type=str,\n",
        "    help='Key to use in the checkpoint (example: \"teacher\")')\n",
        "parser.add_argument(\"--image_path\", default=None, type=str, help=\"Path of the image to load.\")\n",
        "parser.add_argument('--output_dir', default='.', help='Path where to save visualizations.')\n",
        "parser.add_argument(\"--threshold\", type=float, default=0.6, help=\"\"\"We visualize masks\n",
        "    obtained by thresholding the self-attention maps to keep xx% of the mass.\"\"\")\n",
        "\n",
        "args = parser.parse_args(args=[])\n",
        "\n",
        "args.arch = arch\n",
        "args.pretrained_weights = pretrained_weights_path\n",
        "args.image_path = \"../input/\"\n",
        "args.output_dir = \"../out/\"\n",
        "args.threshold = threshold"
      ],
      "execution_count": 19,
      "outputs": []
    },
    {
      "cell_type": "code",
      "metadata": {
        "id": "j2eEQ8YQ69aG"
      },
      "source": [
        "model = vits.__dict__[args.arch](patch_size=args.patch_size, num_classes=0)\n",
        "for p in model.parameters():\n",
        "    p.requires_grad = False\n",
        "model.eval()\n",
        "model.cuda()\n",
        "if os.path.isfile(args.pretrained_weights):\n",
        "    state_dict = torch.load(args.pretrained_weights, map_location=\"cpu\")\n",
        "    #if args.checkpoint_key is not None and args.checkpoint_key in state_dict:\n",
        "    #    print(f\"Take key {args.checkpoint_key} in provided checkpoint dict\")\n",
        "    #    state_dict = state_dict[args.checkpoint_key]\n",
        "    #state_dict = {k.replace(\"module.\", \"\"): v for k, v in state_dict.items()}\n",
        "    #msg = model.load_state_dict(state_dict, strict=False)\n",
        "    #print('Pretrained weights found at {} and loaded with msg: {}'.format(args.pretrained_weights, msg))\n",
        "else:\n",
        "    print(\"Please use the `--pretrained_weights` argument to indicate the path of the checkpoint to evaluate.\")\n",
        "    url = None\n",
        "    if args.arch == \"deit_small\" and args.patch_size == 16:\n",
        "        url = \"dino_deitsmall16_pretrain/dino_deitsmall16_pretrain.pth\"\n",
        "    elif args.arch == \"deit_small\" and args.patch_size == 8:\n",
        "        url = \"dino_deitsmall8_300ep_pretrain/dino_deitsmall8_300ep_pretrain.pth\"  # model used for visualizations in our paper\n",
        "    elif args.arch == \"vit_base\" and args.patch_size == 16:\n",
        "        url = \"dino_vitbase16_pretrain/dino_vitbase16_pretrain.pth\"\n",
        "    elif args.arch == \"vit_base\" and args.patch_size == 8:\n",
        "        url = \"dino_vitbase8_pretrain/dino_vitbase8_pretrain.pth\"\n",
        "    if url is not None:\n",
        "        print(\"Since no pretrained weights have been provided, we load the reference pretrained DINO weights.\")\n",
        "        state_dict = torch.hub.load_state_dict_from_url(url=\"https://dl.fbaipublicfiles.com/dino/\" + url)\n",
        "        model.load_state_dict(state_dict, strict=True)\n",
        "    else:\n",
        "        print(\"There is no reference weights available for this model => We use random weights.\")\n"
      ],
      "execution_count": 20,
      "outputs": []
    },
    {
      "cell_type": "code",
      "metadata": {
        "colab": {
          "base_uri": "https://localhost:8080/"
        },
        "id": "aRk_XpBVBlIn",
        "outputId": "9dbb2058-afb5-4e07-97fe-138c62e68b4b"
      },
      "source": [
        "torch.cuda.empty_cache()\n",
        "gc.collect()"
      ],
      "execution_count": 21,
      "outputs": [
        {
          "output_type": "execute_result",
          "data": {
            "text/plain": [
              "59"
            ]
          },
          "metadata": {},
          "execution_count": 21
        }
      ]
    },
    {
      "cell_type": "markdown",
      "metadata": {
        "id": "z-z9LXVWsak_"
      },
      "source": [
        "## Run inference\n",
        "\n",
        "\n",
        "Resize if OOM"
      ]
    },
    {
      "cell_type": "code",
      "metadata": {
        "id": "V6SgQq0s84ZX",
        "colab": {
          "base_uri": "https://localhost:8080/"
        },
        "outputId": "38994dd5-244c-4778-9b87-6123cdd264f6"
      },
      "source": [
        "predict_video(args)"
      ],
      "execution_count": 22,
      "outputs": [
        {
          "output_type": "stream",
          "name": "stdout",
          "text": [
            "../out/attn-img-001.jpg saved.\n",
            "../out/attn-img-002.jpg saved.\n",
            "../out/attn-img-003.jpg saved.\n",
            "../out/attn-img-004.jpg saved.\n",
            "../out/attn-img-005.jpg saved.\n",
            "../out/attn-img-006.jpg saved.\n",
            "../out/attn-img-007.jpg saved.\n",
            "../out/attn-img-008.jpg saved.\n",
            "../out/attn-img-009.jpg saved.\n",
            "../out/attn-img-010.jpg saved.\n",
            "../out/attn-img-011.jpg saved.\n",
            "../out/attn-img-012.jpg saved.\n",
            "../out/attn-img-013.jpg saved.\n",
            "../out/attn-img-014.jpg saved.\n",
            "../out/attn-img-015.jpg saved.\n",
            "../out/attn-img-016.jpg saved.\n",
            "../out/attn-img-017.jpg saved.\n",
            "../out/attn-img-018.jpg saved.\n",
            "../out/attn-img-019.jpg saved.\n",
            "../out/attn-img-020.jpg saved.\n",
            "../out/attn-img-021.jpg saved.\n",
            "../out/attn-img-022.jpg saved.\n",
            "../out/attn-img-023.jpg saved.\n",
            "../out/attn-img-024.jpg saved.\n",
            "../out/attn-img-025.jpg saved.\n",
            "../out/attn-img-026.jpg saved.\n",
            "../out/attn-img-027.jpg saved.\n",
            "../out/attn-img-028.jpg saved.\n",
            "../out/attn-img-029.jpg saved.\n",
            "../out/attn-img-030.jpg saved.\n",
            "../out/attn-img-031.jpg saved.\n",
            "../out/attn-img-032.jpg saved.\n",
            "../out/attn-img-033.jpg saved.\n",
            "../out/attn-img-034.jpg saved.\n",
            "../out/attn-img-035.jpg saved.\n",
            "../out/attn-img-036.jpg saved.\n",
            "../out/attn-img-037.jpg saved.\n",
            "../out/attn-img-038.jpg saved.\n",
            "../out/attn-img-039.jpg saved.\n",
            "../out/attn-img-040.jpg saved.\n",
            "../out/attn-img-041.jpg saved.\n",
            "../out/attn-img-042.jpg saved.\n",
            "../out/attn-img-043.jpg saved.\n",
            "../out/attn-img-044.jpg saved.\n",
            "../out/attn-img-045.jpg saved.\n",
            "../out/attn-img-046.jpg saved.\n",
            "../out/attn-img-047.jpg saved.\n",
            "../out/attn-img-048.jpg saved.\n",
            "../out/attn-img-049.jpg saved.\n",
            "../out/attn-img-050.jpg saved.\n",
            "../out/attn-img-051.jpg saved.\n",
            "../out/attn-img-052.jpg saved.\n",
            "../out/attn-img-053.jpg saved.\n",
            "../out/attn-img-054.jpg saved.\n",
            "../out/attn-img-055.jpg saved.\n",
            "../out/attn-img-056.jpg saved.\n",
            "../out/attn-img-057.jpg saved.\n",
            "../out/attn-img-058.jpg saved.\n",
            "../out/attn-img-059.jpg saved.\n",
            "../out/attn-img-060.jpg saved.\n",
            "../out/attn-img-061.jpg saved.\n",
            "../out/attn-img-062.jpg saved.\n",
            "../out/attn-img-063.jpg saved.\n",
            "../out/attn-img-064.jpg saved.\n",
            "../out/attn-img-065.jpg saved.\n",
            "../out/attn-img-066.jpg saved.\n",
            "../out/attn-img-067.jpg saved.\n",
            "../out/attn-img-068.jpg saved.\n",
            "../out/attn-img-069.jpg saved.\n",
            "../out/attn-img-070.jpg saved.\n",
            "../out/attn-img-071.jpg saved.\n",
            "../out/attn-img-072.jpg saved.\n",
            "../out/attn-img-073.jpg saved.\n",
            "../out/attn-img-074.jpg saved.\n",
            "../out/attn-img-075.jpg saved.\n",
            "../out/attn-img-076.jpg saved.\n",
            "../out/attn-img-077.jpg saved.\n",
            "../out/attn-img-078.jpg saved.\n",
            "../out/attn-img-079.jpg saved.\n",
            "../out/attn-img-080.jpg saved.\n",
            "../out/attn-img-081.jpg saved.\n",
            "../out/attn-img-082.jpg saved.\n",
            "../out/attn-img-083.jpg saved.\n",
            "../out/attn-img-084.jpg saved.\n",
            "../out/attn-img-085.jpg saved.\n",
            "../out/attn-img-086.jpg saved.\n",
            "../out/attn-img-087.jpg saved.\n",
            "../out/attn-img-088.jpg saved.\n",
            "../out/attn-img-089.jpg saved.\n",
            "../out/attn-img-090.jpg saved.\n",
            "../out/attn-img-091.jpg saved.\n",
            "../out/attn-img-092.jpg saved.\n",
            "../out/attn-img-093.jpg saved.\n",
            "../out/attn-img-094.jpg saved.\n",
            "../out/attn-img-095.jpg saved.\n",
            "../out/attn-img-096.jpg saved.\n",
            "../out/attn-img-097.jpg saved.\n",
            "../out/attn-img-098.jpg saved.\n",
            "../out/attn-img-099.jpg saved.\n",
            "../out/attn-img-100.jpg saved.\n",
            "../out/attn-img-101.jpg saved.\n",
            "../out/attn-img-102.jpg saved.\n",
            "../out/attn-img-103.jpg saved.\n",
            "../out/attn-img-104.jpg saved.\n",
            "../out/attn-img-105.jpg saved.\n",
            "../out/attn-img-106.jpg saved.\n",
            "../out/attn-img-107.jpg saved.\n",
            "../out/attn-img-108.jpg saved.\n",
            "../out/attn-img-109.jpg saved.\n",
            "../out/attn-img-110.jpg saved.\n",
            "../out/attn-img-111.jpg saved.\n",
            "../out/attn-img-112.jpg saved.\n",
            "../out/attn-img-113.jpg saved.\n",
            "../out/attn-img-114.jpg saved.\n",
            "../out/attn-img-115.jpg saved.\n",
            "../out/attn-img-116.jpg saved.\n",
            "../out/attn-img-117.jpg saved.\n",
            "../out/attn-img-118.jpg saved.\n",
            "../out/attn-img-119.jpg saved.\n",
            "../out/attn-img-120.jpg saved.\n",
            "../out/attn-img-121.jpg saved.\n",
            "../out/attn-img-122.jpg saved.\n",
            "../out/attn-img-123.jpg saved.\n",
            "../out/attn-img-124.jpg saved.\n",
            "../out/attn-img-125.jpg saved.\n",
            "../out/attn-img-126.jpg saved.\n",
            "../out/attn-img-127.jpg saved.\n",
            "../out/attn-img-128.jpg saved.\n",
            "../out/attn-img-129.jpg saved.\n",
            "../out/attn-img-130.jpg saved.\n",
            "../out/attn-img-131.jpg saved.\n",
            "../out/attn-img-132.jpg saved.\n",
            "../out/attn-img-133.jpg saved.\n",
            "../out/attn-img-134.jpg saved.\n",
            "../out/attn-img-135.jpg saved.\n",
            "../out/attn-img-136.jpg saved.\n",
            "../out/attn-img-137.jpg saved.\n",
            "../out/attn-img-138.jpg saved.\n",
            "../out/attn-img-139.jpg saved.\n",
            "../out/attn-img-140.jpg saved.\n",
            "../out/attn-img-141.jpg saved.\n",
            "../out/attn-img-142.jpg saved.\n",
            "../out/attn-img-143.jpg saved.\n",
            "../out/attn-img-144.jpg saved.\n",
            "../out/attn-img-145.jpg saved.\n",
            "../out/attn-img-146.jpg saved.\n",
            "../out/attn-img-147.jpg saved.\n",
            "../out/attn-img-148.jpg saved.\n",
            "../out/attn-img-149.jpg saved.\n",
            "../out/attn-img-150.jpg saved.\n",
            "../out/attn-img-151.jpg saved.\n",
            "../out/attn-img-152.jpg saved.\n",
            "../out/attn-img-153.jpg saved.\n",
            "../out/attn-img-154.jpg saved.\n",
            "../out/attn-img-155.jpg saved.\n",
            "../out/attn-img-156.jpg saved.\n",
            "../out/attn-img-157.jpg saved.\n",
            "../out/attn-img-158.jpg saved.\n",
            "../out/attn-img-159.jpg saved.\n",
            "../out/attn-img-160.jpg saved.\n",
            "../out/attn-img-161.jpg saved.\n",
            "../out/attn-img-162.jpg saved.\n",
            "../out/attn-img-163.jpg saved.\n",
            "../out/attn-img-164.jpg saved.\n",
            "../out/attn-img-165.jpg saved.\n",
            "../out/attn-img-166.jpg saved.\n",
            "../out/attn-img-167.jpg saved.\n",
            "../out/attn-img-168.jpg saved.\n",
            "../out/attn-img-169.jpg saved.\n",
            "../out/attn-img-170.jpg saved.\n",
            "../out/attn-img-171.jpg saved.\n",
            "../out/attn-img-172.jpg saved.\n",
            "../out/attn-img-173.jpg saved.\n",
            "../out/attn-img-174.jpg saved.\n",
            "../out/attn-img-175.jpg saved.\n",
            "../out/attn-img-176.jpg saved.\n",
            "../out/attn-img-177.jpg saved.\n",
            "../out/attn-img-178.jpg saved.\n",
            "../out/attn-img-179.jpg saved.\n",
            "../out/attn-img-180.jpg saved.\n",
            "../out/attn-img-181.jpg saved.\n",
            "../out/attn-img-182.jpg saved.\n"
          ]
        }
      ]
    },
    {
      "cell_type": "markdown",
      "metadata": {
        "id": "SXOZzCiTsmGl"
      },
      "source": [
        "## Output images to video\n",
        "\n",
        "Input video is 60 fps, change if yours is different"
      ]
    },
    {
      "cell_type": "code",
      "metadata": {
        "id": "vIhTNIEnkEfR",
        "colab": {
          "base_uri": "https://localhost:8080/"
        },
        "outputId": "ef0612ed-3b0d-46a1-84f8-92f6cf1bcc20"
      },
      "source": [
        "!ffmpeg -framerate 60 -i ../output/attn-image-%03d.jpg ../output.mp4"
      ],
      "execution_count": 23,
      "outputs": [
        {
          "output_type": "stream",
          "name": "stdout",
          "text": [
            "ffmpeg version 4.4.2-0ubuntu0.22.04.1 Copyright (c) 2000-2021 the FFmpeg developers\n",
            "  built with gcc 11 (Ubuntu 11.2.0-19ubuntu1)\n",
            "  configuration: --prefix=/usr --extra-version=0ubuntu0.22.04.1 --toolchain=hardened --libdir=/usr/lib/x86_64-linux-gnu --incdir=/usr/include/x86_64-linux-gnu --arch=amd64 --enable-gpl --disable-stripping --enable-gnutls --enable-ladspa --enable-libaom --enable-libass --enable-libbluray --enable-libbs2b --enable-libcaca --enable-libcdio --enable-libcodec2 --enable-libdav1d --enable-libflite --enable-libfontconfig --enable-libfreetype --enable-libfribidi --enable-libgme --enable-libgsm --enable-libjack --enable-libmp3lame --enable-libmysofa --enable-libopenjpeg --enable-libopenmpt --enable-libopus --enable-libpulse --enable-librabbitmq --enable-librubberband --enable-libshine --enable-libsnappy --enable-libsoxr --enable-libspeex --enable-libsrt --enable-libssh --enable-libtheora --enable-libtwolame --enable-libvidstab --enable-libvorbis --enable-libvpx --enable-libwebp --enable-libx265 --enable-libxml2 --enable-libxvid --enable-libzimg --enable-libzmq --enable-libzvbi --enable-lv2 --enable-omx --enable-openal --enable-opencl --enable-opengl --enable-sdl2 --enable-pocketsphinx --enable-librsvg --enable-libmfx --enable-libdc1394 --enable-libdrm --enable-libiec61883 --enable-chromaprint --enable-frei0r --enable-libx264 --enable-shared\n",
            "  libavutil      56. 70.100 / 56. 70.100\n",
            "  libavcodec     58.134.100 / 58.134.100\n",
            "  libavformat    58. 76.100 / 58. 76.100\n",
            "  libavdevice    58. 13.100 / 58. 13.100\n",
            "  libavfilter     7.110.100 /  7.110.100\n",
            "  libswscale      5.  9.100 /  5.  9.100\n",
            "  libswresample   3.  9.100 /  3.  9.100\n",
            "  libpostproc    55.  9.100 / 55.  9.100\n",
            "\u001b[0;35m[image2 @ 0x5cf948765100] \u001b[0m\u001b[1;31mCould find no file with path '../output/attn-image-%03d.jpg' and index in the range 0-4\n",
            "\u001b[0m\u001b[1;31m../output/attn-image-%03d.jpg: No such file or directory\n",
            "\u001b[0m"
          ]
        }
      ]
    },
    {
      "cell_type": "markdown",
      "metadata": {
        "id": "4-ZTjxJBtCn_"
      },
      "source": [
        "If you want both input and output videos side by side:"
      ]
    },
    {
      "cell_type": "code",
      "metadata": {
        "id": "U-kSzhZZtFow",
        "colab": {
          "base_uri": "https://localhost:8080/"
        },
        "outputId": "936501ab-b7e4-4766-f814-b6de9dcd9d75"
      },
      "source": [
        "!ffmpeg -i ../video.mp4 -i ../output.mp4 -filter_complex '[0:v]pad=iw*2:ih[int];[int][1:v]overlay=W/2:0[vid]' -map '[vid]' -c:v libx264 -crf 23 -preset veryfast final.mp4"
      ],
      "execution_count": 24,
      "outputs": [
        {
          "output_type": "stream",
          "name": "stdout",
          "text": [
            "ffmpeg version 4.4.2-0ubuntu0.22.04.1 Copyright (c) 2000-2021 the FFmpeg developers\n",
            "  built with gcc 11 (Ubuntu 11.2.0-19ubuntu1)\n",
            "  configuration: --prefix=/usr --extra-version=0ubuntu0.22.04.1 --toolchain=hardened --libdir=/usr/lib/x86_64-linux-gnu --incdir=/usr/include/x86_64-linux-gnu --arch=amd64 --enable-gpl --disable-stripping --enable-gnutls --enable-ladspa --enable-libaom --enable-libass --enable-libbluray --enable-libbs2b --enable-libcaca --enable-libcdio --enable-libcodec2 --enable-libdav1d --enable-libflite --enable-libfontconfig --enable-libfreetype --enable-libfribidi --enable-libgme --enable-libgsm --enable-libjack --enable-libmp3lame --enable-libmysofa --enable-libopenjpeg --enable-libopenmpt --enable-libopus --enable-libpulse --enable-librabbitmq --enable-librubberband --enable-libshine --enable-libsnappy --enable-libsoxr --enable-libspeex --enable-libsrt --enable-libssh --enable-libtheora --enable-libtwolame --enable-libvidstab --enable-libvorbis --enable-libvpx --enable-libwebp --enable-libx265 --enable-libxml2 --enable-libxvid --enable-libzimg --enable-libzmq --enable-libzvbi --enable-lv2 --enable-omx --enable-openal --enable-opencl --enable-opengl --enable-sdl2 --enable-pocketsphinx --enable-librsvg --enable-libmfx --enable-libdc1394 --enable-libdrm --enable-libiec61883 --enable-chromaprint --enable-frei0r --enable-libx264 --enable-shared\n",
            "  libavutil      56. 70.100 / 56. 70.100\n",
            "  libavcodec     58.134.100 / 58.134.100\n",
            "  libavformat    58. 76.100 / 58. 76.100\n",
            "  libavdevice    58. 13.100 / 58. 13.100\n",
            "  libavfilter     7.110.100 /  7.110.100\n",
            "  libswscale      5.  9.100 /  5.  9.100\n",
            "  libswresample   3.  9.100 /  3.  9.100\n",
            "  libpostproc    55.  9.100 / 55.  9.100\n",
            "Input #0, mov,mp4,m4a,3gp,3g2,mj2, from '../video.mp4':\n",
            "  Metadata:\n",
            "    major_brand     : mp42\n",
            "    minor_version   : 0\n",
            "    compatible_brands: mp42mp41isomavc1\n",
            "    creation_time   : 2020-04-16T00:39:29.000000Z\n",
            "  Duration: 00:00:06.08, start: 0.000000, bitrate: 21209 kb/s\n",
            "  Stream #0:0(und): Video: h264 (High) (avc1 / 0x31637661), yuv420p(tv, bt709), 3840x2160, 20974 kb/s, 29.97 fps, 29.97 tbr, 30k tbn, 60k tbc (default)\n",
            "    Metadata:\n",
            "      creation_time   : 2020-04-16T00:39:29.000000Z\n",
            "      handler_name    : L-SMASH Video Handler\n",
            "      vendor_id       : [0][0][0][0]\n",
            "      encoder         : AVC Coding\n",
            "  Stream #0:1(und): Audio: aac (LC) (mp4a / 0x6134706D), 48000 Hz, stereo, fltp, 253 kb/s (default)\n",
            "    Metadata:\n",
            "      creation_time   : 2020-04-16T00:39:29.000000Z\n",
            "      handler_name    : L-SMASH Audio Handler\n",
            "      vendor_id       : [0][0][0][0]\n",
            "\u001b[1;31m../output.mp4: No such file or directory\n",
            "\u001b[0m"
          ]
        }
      ]
    },
    {
      "cell_type": "code",
      "source": [],
      "metadata": {
        "id": "MgIP72wtUppc"
      },
      "execution_count": 24,
      "outputs": []
    }
  ]
}